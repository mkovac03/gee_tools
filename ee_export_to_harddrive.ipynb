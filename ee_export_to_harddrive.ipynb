{
  "cells": [
    {
      "cell_type": "markdown",
      "metadata": {
        "id": "view-in-github",
        "colab_type": "text"
      },
      "source": [
        "<a href=\"https://colab.research.google.com/github/mkovac03/gee_tools/blob/master/ee_export_to_harddrive.ipynb\" target=\"_parent\"><img src=\"https://colab.research.google.com/assets/colab-badge.svg\" alt=\"Open In Colab\"/></a>"
      ]
    },
    {
      "cell_type": "markdown",
      "id": "77acf3b2",
      "metadata": {
        "id": "77acf3b2"
      },
      "source": [
        "# Status:\n",
        "pull ndvi+QA: working\n",
        "mosaic ndvi+QA: working \n",
        "- need to figure out whether I want to manually move files from google drive each time or just write them directly to local drive\n",
        "\n",
        "next steps: \n",
        "- Figure out what I need to project to be able to clip land cover correctly\n",
        "- write code to create .txt file\n"
      ]
    },
    {
      "cell_type": "code",
      "execution_count": 2,
      "id": "63c5408c",
      "metadata": {
        "colab": {
          "base_uri": "https://localhost:8080/"
        },
        "id": "63c5408c",
        "outputId": "103920b7-8306-46b4-de1b-1ed17e998508"
      },
      "outputs": [
        {
          "output_type": "stream",
          "name": "stdout",
          "text": [
            "Looking in indexes: https://pypi.org/simple, https://us-python.pkg.dev/colab-wheels/public/simple/\n",
            "Requirement already satisfied: earthengine-api in /usr/local/lib/python3.10/dist-packages (0.1.350)\n",
            "Requirement already satisfied: google-cloud-storage in /usr/local/lib/python3.10/dist-packages (from earthengine-api) (2.8.0)\n",
            "Requirement already satisfied: google-api-python-client>=1.12.1 in /usr/local/lib/python3.10/dist-packages (from earthengine-api) (2.84.0)\n",
            "Requirement already satisfied: google-auth>=1.4.1 in /usr/local/lib/python3.10/dist-packages (from earthengine-api) (2.17.3)\n",
            "Requirement already satisfied: google-auth-httplib2>=0.0.3 in /usr/local/lib/python3.10/dist-packages (from earthengine-api) (0.1.0)\n",
            "Requirement already satisfied: httplib2<1dev,>=0.9.2 in /usr/local/lib/python3.10/dist-packages (from earthengine-api) (0.21.0)\n",
            "Requirement already satisfied: requests in /usr/local/lib/python3.10/dist-packages (from earthengine-api) (2.27.1)\n",
            "Requirement already satisfied: google-api-core!=2.0.*,!=2.1.*,!=2.2.*,!=2.3.0,<3.0.0dev,>=1.31.5 in /usr/local/lib/python3.10/dist-packages (from google-api-python-client>=1.12.1->earthengine-api) (2.11.0)\n",
            "Requirement already satisfied: uritemplate<5,>=3.0.1 in /usr/local/lib/python3.10/dist-packages (from google-api-python-client>=1.12.1->earthengine-api) (4.1.1)\n",
            "Requirement already satisfied: cachetools<6.0,>=2.0.0 in /usr/local/lib/python3.10/dist-packages (from google-auth>=1.4.1->earthengine-api) (5.3.0)\n",
            "Requirement already satisfied: pyasn1-modules>=0.2.1 in /usr/local/lib/python3.10/dist-packages (from google-auth>=1.4.1->earthengine-api) (0.3.0)\n",
            "Requirement already satisfied: six>=1.9.0 in /usr/local/lib/python3.10/dist-packages (from google-auth>=1.4.1->earthengine-api) (1.16.0)\n",
            "Requirement already satisfied: rsa<5,>=3.1.4 in /usr/local/lib/python3.10/dist-packages (from google-auth>=1.4.1->earthengine-api) (4.9)\n",
            "Requirement already satisfied: pyparsing!=3.0.0,!=3.0.1,!=3.0.2,!=3.0.3,<4,>=2.4.2 in /usr/local/lib/python3.10/dist-packages (from httplib2<1dev,>=0.9.2->earthengine-api) (3.0.9)\n",
            "Requirement already satisfied: google-cloud-core<3.0dev,>=2.3.0 in /usr/local/lib/python3.10/dist-packages (from google-cloud-storage->earthengine-api) (2.3.2)\n",
            "Requirement already satisfied: google-resumable-media>=2.3.2 in /usr/local/lib/python3.10/dist-packages (from google-cloud-storage->earthengine-api) (2.5.0)\n",
            "Requirement already satisfied: urllib3<1.27,>=1.21.1 in /usr/local/lib/python3.10/dist-packages (from requests->earthengine-api) (1.26.15)\n",
            "Requirement already satisfied: certifi>=2017.4.17 in /usr/local/lib/python3.10/dist-packages (from requests->earthengine-api) (2022.12.7)\n",
            "Requirement already satisfied: charset-normalizer~=2.0.0 in /usr/local/lib/python3.10/dist-packages (from requests->earthengine-api) (2.0.12)\n",
            "Requirement already satisfied: idna<4,>=2.5 in /usr/local/lib/python3.10/dist-packages (from requests->earthengine-api) (3.4)\n",
            "Requirement already satisfied: googleapis-common-protos<2.0dev,>=1.56.2 in /usr/local/lib/python3.10/dist-packages (from google-api-core!=2.0.*,!=2.1.*,!=2.2.*,!=2.3.0,<3.0.0dev,>=1.31.5->google-api-python-client>=1.12.1->earthengine-api) (1.59.0)\n",
            "Requirement already satisfied: protobuf!=3.20.0,!=3.20.1,!=4.21.0,!=4.21.1,!=4.21.2,!=4.21.3,!=4.21.4,!=4.21.5,<5.0.0dev,>=3.19.5 in /usr/local/lib/python3.10/dist-packages (from google-api-core!=2.0.*,!=2.1.*,!=2.2.*,!=2.3.0,<3.0.0dev,>=1.31.5->google-api-python-client>=1.12.1->earthengine-api) (3.20.3)\n",
            "Requirement already satisfied: google-crc32c<2.0dev,>=1.0 in /usr/local/lib/python3.10/dist-packages (from google-resumable-media>=2.3.2->google-cloud-storage->earthengine-api) (1.5.0)\n",
            "Requirement already satisfied: pyasn1<0.6.0,>=0.4.6 in /usr/local/lib/python3.10/dist-packages (from pyasn1-modules>=0.2.1->google-auth>=1.4.1->earthengine-api) (0.5.0)\n",
            "Looking in indexes: https://pypi.org/simple, https://us-python.pkg.dev/colab-wheels/public/simple/\n",
            "Collecting geemap\n",
            "  Downloading geemap-0.22.1-py2.py3-none-any.whl (2.2 MB)\n",
            "\u001b[2K     \u001b[90m━━━━━━━━━━━━━━━━━━━━━━━━━━━━━━━━━━━━━━━━\u001b[0m \u001b[32m2.2/2.2 MB\u001b[0m \u001b[31m24.5 MB/s\u001b[0m eta \u001b[36m0:00:00\u001b[0m\n",
            "\u001b[?25hCollecting bqplot (from geemap)\n",
            "  Downloading bqplot-0.12.39-py2.py3-none-any.whl (1.2 MB)\n",
            "\u001b[2K     \u001b[90m━━━━━━━━━━━━━━━━━━━━━━━━━━━━━━━━━━━━━━━━\u001b[0m \u001b[32m1.2/1.2 MB\u001b[0m \u001b[31m72.8 MB/s\u001b[0m eta \u001b[36m0:00:00\u001b[0m\n",
            "\u001b[?25hCollecting colour (from geemap)\n",
            "  Downloading colour-0.1.5-py2.py3-none-any.whl (23 kB)\n",
            "Requirement already satisfied: earthengine-api>=0.1.347 in /usr/local/lib/python3.10/dist-packages (from geemap) (0.1.350)\n",
            "Collecting eerepr>=0.0.4 (from geemap)\n",
            "  Downloading eerepr-0.0.4-py3-none-any.whl (9.7 kB)\n",
            "Requirement already satisfied: folium>=0.13.0 in /usr/local/lib/python3.10/dist-packages (from geemap) (0.14.0)\n",
            "Collecting geocoder (from geemap)\n",
            "  Downloading geocoder-1.38.1-py2.py3-none-any.whl (98 kB)\n",
            "\u001b[2K     \u001b[90m━━━━━━━━━━━━━━━━━━━━━━━━━━━━━━━━━━━━━━━━\u001b[0m \u001b[32m98.6/98.6 kB\u001b[0m \u001b[31m11.6 MB/s\u001b[0m eta \u001b[36m0:00:00\u001b[0m\n",
            "\u001b[?25hCollecting ipyevents (from geemap)\n",
            "  Downloading ipyevents-2.0.1-py2.py3-none-any.whl (130 kB)\n",
            "\u001b[2K     \u001b[90m━━━━━━━━━━━━━━━━━━━━━━━━━━━━━━━━━━━━━━\u001b[0m \u001b[32m130.5/130.5 kB\u001b[0m \u001b[31m17.2 MB/s\u001b[0m eta \u001b[36m0:00:00\u001b[0m\n",
            "\u001b[?25hCollecting ipyfilechooser>=0.6.0 (from geemap)\n",
            "  Downloading ipyfilechooser-0.6.0-py3-none-any.whl (11 kB)\n",
            "Collecting ipyleaflet>=0.17.0 (from geemap)\n",
            "  Downloading ipyleaflet-0.17.3-py3-none-any.whl (3.4 MB)\n",
            "\u001b[2K     \u001b[90m━━━━━━━━━━━━━━━━━━━━━━━━━━━━━━━━━━━━━━━━\u001b[0m \u001b[32m3.4/3.4 MB\u001b[0m \u001b[31m91.0 MB/s\u001b[0m eta \u001b[36m0:00:00\u001b[0m\n",
            "\u001b[?25hCollecting ipytree (from geemap)\n",
            "  Downloading ipytree-0.2.2-py2.py3-none-any.whl (1.3 MB)\n",
            "\u001b[2K     \u001b[90m━━━━━━━━━━━━━━━━━━━━━━━━━━━━━━━━━━━━━━━━\u001b[0m \u001b[32m1.3/1.3 MB\u001b[0m \u001b[31m66.8 MB/s\u001b[0m eta \u001b[36m0:00:00\u001b[0m\n",
            "\u001b[?25hRequirement already satisfied: matplotlib in /usr/local/lib/python3.10/dist-packages (from geemap) (3.7.1)\n",
            "Requirement already satisfied: numpy in /usr/local/lib/python3.10/dist-packages (from geemap) (1.22.4)\n",
            "Requirement already satisfied: pandas in /usr/local/lib/python3.10/dist-packages (from geemap) (1.5.3)\n",
            "Requirement already satisfied: plotly in /usr/local/lib/python3.10/dist-packages (from geemap) (5.13.1)\n",
            "Collecting pyperclip (from geemap)\n",
            "  Downloading pyperclip-1.8.2.tar.gz (20 kB)\n",
            "  Preparing metadata (setup.py) ... \u001b[?25l\u001b[?25hdone\n",
            "Collecting pyshp>=2.1.3 (from geemap)\n",
            "  Downloading pyshp-2.3.1-py2.py3-none-any.whl (46 kB)\n",
            "\u001b[2K     \u001b[90m━━━━━━━━━━━━━━━━━━━━━━━━━━━━━━━━━━━━━━━━\u001b[0m \u001b[32m46.5/46.5 kB\u001b[0m \u001b[31m5.8 MB/s\u001b[0m eta \u001b[36m0:00:00\u001b[0m\n",
            "\u001b[?25hCollecting python-box (from geemap)\n",
            "  Downloading python_box-7.0.1-cp310-cp310-manylinux_2_5_x86_64.manylinux1_x86_64.manylinux_2_12_x86_64.manylinux2010_x86_64.whl (3.2 MB)\n",
            "\u001b[2K     \u001b[90m━━━━━━━━━━━━━━━━━━━━━━━━━━━━━━━━━━━━━━━━\u001b[0m \u001b[32m3.2/3.2 MB\u001b[0m \u001b[31m68.3 MB/s\u001b[0m eta \u001b[36m0:00:00\u001b[0m\n",
            "\u001b[?25hCollecting scooby (from geemap)\n",
            "  Downloading scooby-0.7.2-py3-none-any.whl (16 kB)\n",
            "Requirement already satisfied: google-cloud-storage in /usr/local/lib/python3.10/dist-packages (from earthengine-api>=0.1.347->geemap) (2.8.0)\n",
            "Requirement already satisfied: google-api-python-client>=1.12.1 in /usr/local/lib/python3.10/dist-packages (from earthengine-api>=0.1.347->geemap) (2.84.0)\n",
            "Requirement already satisfied: google-auth>=1.4.1 in /usr/local/lib/python3.10/dist-packages (from earthengine-api>=0.1.347->geemap) (2.17.3)\n",
            "Requirement already satisfied: google-auth-httplib2>=0.0.3 in /usr/local/lib/python3.10/dist-packages (from earthengine-api>=0.1.347->geemap) (0.1.0)\n",
            "Requirement already satisfied: httplib2<1dev,>=0.9.2 in /usr/local/lib/python3.10/dist-packages (from earthengine-api>=0.1.347->geemap) (0.21.0)\n",
            "Requirement already satisfied: requests in /usr/local/lib/python3.10/dist-packages (from earthengine-api>=0.1.347->geemap) (2.27.1)\n",
            "Requirement already satisfied: branca>=0.6.0 in /usr/local/lib/python3.10/dist-packages (from folium>=0.13.0->geemap) (0.6.0)\n",
            "Requirement already satisfied: jinja2>=2.9 in /usr/local/lib/python3.10/dist-packages (from folium>=0.13.0->geemap) (3.1.2)\n",
            "Requirement already satisfied: ipywidgets in /usr/local/lib/python3.10/dist-packages (from ipyfilechooser>=0.6.0->geemap) (7.7.1)\n",
            "Collecting traittypes<3,>=0.2.1 (from ipyleaflet>=0.17.0->geemap)\n",
            "  Downloading traittypes-0.2.1-py2.py3-none-any.whl (8.6 kB)\n",
            "Collecting xyzservices>=2021.8.1 (from ipyleaflet>=0.17.0->geemap)\n",
            "  Downloading xyzservices-2023.5.0-py3-none-any.whl (56 kB)\n",
            "\u001b[2K     \u001b[90m━━━━━━━━━━━━━━━━━━━━━━━━━━━━━━━━━━━━━━━━\u001b[0m \u001b[32m56.5/56.5 kB\u001b[0m \u001b[31m6.5 MB/s\u001b[0m eta \u001b[36m0:00:00\u001b[0m\n",
            "\u001b[?25hRequirement already satisfied: traitlets>=4.3.0 in /usr/local/lib/python3.10/dist-packages (from bqplot->geemap) (5.7.1)\n",
            "Requirement already satisfied: python-dateutil>=2.8.1 in /usr/local/lib/python3.10/dist-packages (from pandas->geemap) (2.8.2)\n",
            "Requirement already satisfied: pytz>=2020.1 in /usr/local/lib/python3.10/dist-packages (from pandas->geemap) (2022.7.1)\n",
            "Requirement already satisfied: click in /usr/local/lib/python3.10/dist-packages (from geocoder->geemap) (8.1.3)\n",
            "Requirement already satisfied: future in /usr/local/lib/python3.10/dist-packages (from geocoder->geemap) (0.18.3)\n",
            "Collecting ratelim (from geocoder->geemap)\n",
            "  Downloading ratelim-0.1.6-py2.py3-none-any.whl (4.0 kB)\n",
            "Requirement already satisfied: six in /usr/local/lib/python3.10/dist-packages (from geocoder->geemap) (1.16.0)\n",
            "Requirement already satisfied: contourpy>=1.0.1 in /usr/local/lib/python3.10/dist-packages (from matplotlib->geemap) (1.0.7)\n",
            "Requirement already satisfied: cycler>=0.10 in /usr/local/lib/python3.10/dist-packages (from matplotlib->geemap) (0.11.0)\n",
            "Requirement already satisfied: fonttools>=4.22.0 in /usr/local/lib/python3.10/dist-packages (from matplotlib->geemap) (4.39.3)\n",
            "Requirement already satisfied: kiwisolver>=1.0.1 in /usr/local/lib/python3.10/dist-packages (from matplotlib->geemap) (1.4.4)\n",
            "Requirement already satisfied: packaging>=20.0 in /usr/local/lib/python3.10/dist-packages (from matplotlib->geemap) (23.1)\n",
            "Requirement already satisfied: pillow>=6.2.0 in /usr/local/lib/python3.10/dist-packages (from matplotlib->geemap) (8.4.0)\n",
            "Requirement already satisfied: pyparsing>=2.3.1 in /usr/local/lib/python3.10/dist-packages (from matplotlib->geemap) (3.0.9)\n",
            "Requirement already satisfied: tenacity>=6.2.0 in /usr/local/lib/python3.10/dist-packages (from plotly->geemap) (8.2.2)\n",
            "Requirement already satisfied: google-api-core!=2.0.*,!=2.1.*,!=2.2.*,!=2.3.0,<3.0.0dev,>=1.31.5 in /usr/local/lib/python3.10/dist-packages (from google-api-python-client>=1.12.1->earthengine-api>=0.1.347->geemap) (2.11.0)\n",
            "Requirement already satisfied: uritemplate<5,>=3.0.1 in /usr/local/lib/python3.10/dist-packages (from google-api-python-client>=1.12.1->earthengine-api>=0.1.347->geemap) (4.1.1)\n",
            "Requirement already satisfied: cachetools<6.0,>=2.0.0 in /usr/local/lib/python3.10/dist-packages (from google-auth>=1.4.1->earthengine-api>=0.1.347->geemap) (5.3.0)\n",
            "Requirement already satisfied: pyasn1-modules>=0.2.1 in /usr/local/lib/python3.10/dist-packages (from google-auth>=1.4.1->earthengine-api>=0.1.347->geemap) (0.3.0)\n",
            "Requirement already satisfied: rsa<5,>=3.1.4 in /usr/local/lib/python3.10/dist-packages (from google-auth>=1.4.1->earthengine-api>=0.1.347->geemap) (4.9)\n",
            "Requirement already satisfied: ipykernel>=4.5.1 in /usr/local/lib/python3.10/dist-packages (from ipywidgets->ipyfilechooser>=0.6.0->geemap) (5.5.6)\n",
            "Requirement already satisfied: ipython-genutils~=0.2.0 in /usr/local/lib/python3.10/dist-packages (from ipywidgets->ipyfilechooser>=0.6.0->geemap) (0.2.0)\n",
            "Requirement already satisfied: widgetsnbextension~=3.6.0 in /usr/local/lib/python3.10/dist-packages (from ipywidgets->ipyfilechooser>=0.6.0->geemap) (3.6.4)\n",
            "Requirement already satisfied: ipython>=4.0.0 in /usr/local/lib/python3.10/dist-packages (from ipywidgets->ipyfilechooser>=0.6.0->geemap) (7.34.0)\n",
            "Requirement already satisfied: jupyterlab-widgets>=1.0.0 in /usr/local/lib/python3.10/dist-packages (from ipywidgets->ipyfilechooser>=0.6.0->geemap) (3.0.7)\n",
            "Requirement already satisfied: MarkupSafe>=2.0 in /usr/local/lib/python3.10/dist-packages (from jinja2>=2.9->folium>=0.13.0->geemap) (2.1.2)\n",
            "Requirement already satisfied: google-cloud-core<3.0dev,>=2.3.0 in /usr/local/lib/python3.10/dist-packages (from google-cloud-storage->earthengine-api>=0.1.347->geemap) (2.3.2)\n",
            "Requirement already satisfied: google-resumable-media>=2.3.2 in /usr/local/lib/python3.10/dist-packages (from google-cloud-storage->earthengine-api>=0.1.347->geemap) (2.5.0)\n",
            "Requirement already satisfied: urllib3<1.27,>=1.21.1 in /usr/local/lib/python3.10/dist-packages (from requests->earthengine-api>=0.1.347->geemap) (1.26.15)\n",
            "Requirement already satisfied: certifi>=2017.4.17 in /usr/local/lib/python3.10/dist-packages (from requests->earthengine-api>=0.1.347->geemap) (2022.12.7)\n",
            "Requirement already satisfied: charset-normalizer~=2.0.0 in /usr/local/lib/python3.10/dist-packages (from requests->earthengine-api>=0.1.347->geemap) (2.0.12)\n",
            "Requirement already satisfied: idna<4,>=2.5 in /usr/local/lib/python3.10/dist-packages (from requests->earthengine-api>=0.1.347->geemap) (3.4)\n",
            "Requirement already satisfied: decorator in /usr/local/lib/python3.10/dist-packages (from ratelim->geocoder->geemap) (4.4.2)\n",
            "Requirement already satisfied: googleapis-common-protos<2.0dev,>=1.56.2 in /usr/local/lib/python3.10/dist-packages (from google-api-core!=2.0.*,!=2.1.*,!=2.2.*,!=2.3.0,<3.0.0dev,>=1.31.5->google-api-python-client>=1.12.1->earthengine-api>=0.1.347->geemap) (1.59.0)\n",
            "Requirement already satisfied: protobuf!=3.20.0,!=3.20.1,!=4.21.0,!=4.21.1,!=4.21.2,!=4.21.3,!=4.21.4,!=4.21.5,<5.0.0dev,>=3.19.5 in /usr/local/lib/python3.10/dist-packages (from google-api-core!=2.0.*,!=2.1.*,!=2.2.*,!=2.3.0,<3.0.0dev,>=1.31.5->google-api-python-client>=1.12.1->earthengine-api>=0.1.347->geemap) (3.20.3)\n",
            "Requirement already satisfied: google-crc32c<2.0dev,>=1.0 in /usr/local/lib/python3.10/dist-packages (from google-resumable-media>=2.3.2->google-cloud-storage->earthengine-api>=0.1.347->geemap) (1.5.0)\n",
            "Requirement already satisfied: jupyter-client in /usr/local/lib/python3.10/dist-packages (from ipykernel>=4.5.1->ipywidgets->ipyfilechooser>=0.6.0->geemap) (6.1.12)\n",
            "Requirement already satisfied: tornado>=4.2 in /usr/local/lib/python3.10/dist-packages (from ipykernel>=4.5.1->ipywidgets->ipyfilechooser>=0.6.0->geemap) (6.3.1)\n",
            "Requirement already satisfied: setuptools>=18.5 in /usr/local/lib/python3.10/dist-packages (from ipython>=4.0.0->ipywidgets->ipyfilechooser>=0.6.0->geemap) (67.7.2)\n",
            "Collecting jedi>=0.16 (from ipython>=4.0.0->ipywidgets->ipyfilechooser>=0.6.0->geemap)\n",
            "  Downloading jedi-0.18.2-py2.py3-none-any.whl (1.6 MB)\n",
            "\u001b[2K     \u001b[90m━━━━━━━━━━━━━━━━━━━━━━━━━━━━━━━━━━━━━━━━\u001b[0m \u001b[32m1.6/1.6 MB\u001b[0m \u001b[31m65.0 MB/s\u001b[0m eta \u001b[36m0:00:00\u001b[0m\n",
            "\u001b[?25hRequirement already satisfied: pickleshare in /usr/local/lib/python3.10/dist-packages (from ipython>=4.0.0->ipywidgets->ipyfilechooser>=0.6.0->geemap) (0.7.5)\n",
            "Requirement already satisfied: prompt-toolkit!=3.0.0,!=3.0.1,<3.1.0,>=2.0.0 in /usr/local/lib/python3.10/dist-packages (from ipython>=4.0.0->ipywidgets->ipyfilechooser>=0.6.0->geemap) (3.0.38)\n",
            "Requirement already satisfied: pygments in /usr/local/lib/python3.10/dist-packages (from ipython>=4.0.0->ipywidgets->ipyfilechooser>=0.6.0->geemap) (2.14.0)\n",
            "Requirement already satisfied: backcall in /usr/local/lib/python3.10/dist-packages (from ipython>=4.0.0->ipywidgets->ipyfilechooser>=0.6.0->geemap) (0.2.0)\n",
            "Requirement already satisfied: matplotlib-inline in /usr/local/lib/python3.10/dist-packages (from ipython>=4.0.0->ipywidgets->ipyfilechooser>=0.6.0->geemap) (0.1.6)\n",
            "Requirement already satisfied: pexpect>4.3 in /usr/local/lib/python3.10/dist-packages (from ipython>=4.0.0->ipywidgets->ipyfilechooser>=0.6.0->geemap) (4.8.0)\n",
            "Requirement already satisfied: pyasn1<0.6.0,>=0.4.6 in /usr/local/lib/python3.10/dist-packages (from pyasn1-modules>=0.2.1->google-auth>=1.4.1->earthengine-api>=0.1.347->geemap) (0.5.0)\n",
            "Requirement already satisfied: notebook>=4.4.1 in /usr/local/lib/python3.10/dist-packages (from widgetsnbextension~=3.6.0->ipywidgets->ipyfilechooser>=0.6.0->geemap) (6.4.8)\n",
            "Requirement already satisfied: parso<0.9.0,>=0.8.0 in /usr/local/lib/python3.10/dist-packages (from jedi>=0.16->ipython>=4.0.0->ipywidgets->ipyfilechooser>=0.6.0->geemap) (0.8.3)\n",
            "Requirement already satisfied: pyzmq>=17 in /usr/local/lib/python3.10/dist-packages (from notebook>=4.4.1->widgetsnbextension~=3.6.0->ipywidgets->ipyfilechooser>=0.6.0->geemap) (23.2.1)\n",
            "Requirement already satisfied: argon2-cffi in /usr/local/lib/python3.10/dist-packages (from notebook>=4.4.1->widgetsnbextension~=3.6.0->ipywidgets->ipyfilechooser>=0.6.0->geemap) (21.3.0)\n",
            "Requirement already satisfied: jupyter-core>=4.6.1 in /usr/local/lib/python3.10/dist-packages (from notebook>=4.4.1->widgetsnbextension~=3.6.0->ipywidgets->ipyfilechooser>=0.6.0->geemap) (5.3.0)\n",
            "Requirement already satisfied: nbformat in /usr/local/lib/python3.10/dist-packages (from notebook>=4.4.1->widgetsnbextension~=3.6.0->ipywidgets->ipyfilechooser>=0.6.0->geemap) (5.8.0)\n",
            "Requirement already satisfied: nbconvert in /usr/local/lib/python3.10/dist-packages (from notebook>=4.4.1->widgetsnbextension~=3.6.0->ipywidgets->ipyfilechooser>=0.6.0->geemap) (6.5.4)\n",
            "Requirement already satisfied: nest-asyncio>=1.5 in /usr/local/lib/python3.10/dist-packages (from notebook>=4.4.1->widgetsnbextension~=3.6.0->ipywidgets->ipyfilechooser>=0.6.0->geemap) (1.5.6)\n",
            "Requirement already satisfied: Send2Trash>=1.8.0 in /usr/local/lib/python3.10/dist-packages (from notebook>=4.4.1->widgetsnbextension~=3.6.0->ipywidgets->ipyfilechooser>=0.6.0->geemap) (1.8.0)\n",
            "Requirement already satisfied: terminado>=0.8.3 in /usr/local/lib/python3.10/dist-packages (from notebook>=4.4.1->widgetsnbextension~=3.6.0->ipywidgets->ipyfilechooser>=0.6.0->geemap) (0.17.1)\n",
            "Requirement already satisfied: prometheus-client in /usr/local/lib/python3.10/dist-packages (from notebook>=4.4.1->widgetsnbextension~=3.6.0->ipywidgets->ipyfilechooser>=0.6.0->geemap) (0.16.0)\n",
            "Requirement already satisfied: ptyprocess>=0.5 in /usr/local/lib/python3.10/dist-packages (from pexpect>4.3->ipython>=4.0.0->ipywidgets->ipyfilechooser>=0.6.0->geemap) (0.7.0)\n",
            "Requirement already satisfied: wcwidth in /usr/local/lib/python3.10/dist-packages (from prompt-toolkit!=3.0.0,!=3.0.1,<3.1.0,>=2.0.0->ipython>=4.0.0->ipywidgets->ipyfilechooser>=0.6.0->geemap) (0.2.6)\n",
            "Requirement already satisfied: platformdirs>=2.5 in /usr/local/lib/python3.10/dist-packages (from jupyter-core>=4.6.1->notebook>=4.4.1->widgetsnbextension~=3.6.0->ipywidgets->ipyfilechooser>=0.6.0->geemap) (3.3.0)\n",
            "Requirement already satisfied: argon2-cffi-bindings in /usr/local/lib/python3.10/dist-packages (from argon2-cffi->notebook>=4.4.1->widgetsnbextension~=3.6.0->ipywidgets->ipyfilechooser>=0.6.0->geemap) (21.2.0)\n",
            "Requirement already satisfied: lxml in /usr/local/lib/python3.10/dist-packages (from nbconvert->notebook>=4.4.1->widgetsnbextension~=3.6.0->ipywidgets->ipyfilechooser>=0.6.0->geemap) (4.9.2)\n",
            "Requirement already satisfied: beautifulsoup4 in /usr/local/lib/python3.10/dist-packages (from nbconvert->notebook>=4.4.1->widgetsnbextension~=3.6.0->ipywidgets->ipyfilechooser>=0.6.0->geemap) (4.11.2)\n",
            "Requirement already satisfied: bleach in /usr/local/lib/python3.10/dist-packages (from nbconvert->notebook>=4.4.1->widgetsnbextension~=3.6.0->ipywidgets->ipyfilechooser>=0.6.0->geemap) (6.0.0)\n",
            "Requirement already satisfied: defusedxml in /usr/local/lib/python3.10/dist-packages (from nbconvert->notebook>=4.4.1->widgetsnbextension~=3.6.0->ipywidgets->ipyfilechooser>=0.6.0->geemap) (0.7.1)\n",
            "Requirement already satisfied: entrypoints>=0.2.2 in /usr/local/lib/python3.10/dist-packages (from nbconvert->notebook>=4.4.1->widgetsnbextension~=3.6.0->ipywidgets->ipyfilechooser>=0.6.0->geemap) (0.4)\n",
            "Requirement already satisfied: jupyterlab-pygments in /usr/local/lib/python3.10/dist-packages (from nbconvert->notebook>=4.4.1->widgetsnbextension~=3.6.0->ipywidgets->ipyfilechooser>=0.6.0->geemap) (0.2.2)\n",
            "Requirement already satisfied: mistune<2,>=0.8.1 in /usr/local/lib/python3.10/dist-packages (from nbconvert->notebook>=4.4.1->widgetsnbextension~=3.6.0->ipywidgets->ipyfilechooser>=0.6.0->geemap) (0.8.4)\n",
            "Requirement already satisfied: nbclient>=0.5.0 in /usr/local/lib/python3.10/dist-packages (from nbconvert->notebook>=4.4.1->widgetsnbextension~=3.6.0->ipywidgets->ipyfilechooser>=0.6.0->geemap) (0.7.4)\n",
            "Requirement already satisfied: pandocfilters>=1.4.1 in /usr/local/lib/python3.10/dist-packages (from nbconvert->notebook>=4.4.1->widgetsnbextension~=3.6.0->ipywidgets->ipyfilechooser>=0.6.0->geemap) (1.5.0)\n",
            "Requirement already satisfied: tinycss2 in /usr/local/lib/python3.10/dist-packages (from nbconvert->notebook>=4.4.1->widgetsnbextension~=3.6.0->ipywidgets->ipyfilechooser>=0.6.0->geemap) (1.2.1)\n",
            "Requirement already satisfied: fastjsonschema in /usr/local/lib/python3.10/dist-packages (from nbformat->notebook>=4.4.1->widgetsnbextension~=3.6.0->ipywidgets->ipyfilechooser>=0.6.0->geemap) (2.16.3)\n",
            "Requirement already satisfied: jsonschema>=2.6 in /usr/local/lib/python3.10/dist-packages (from nbformat->notebook>=4.4.1->widgetsnbextension~=3.6.0->ipywidgets->ipyfilechooser>=0.6.0->geemap) (4.3.3)\n",
            "Requirement already satisfied: attrs>=17.4.0 in /usr/local/lib/python3.10/dist-packages (from jsonschema>=2.6->nbformat->notebook>=4.4.1->widgetsnbextension~=3.6.0->ipywidgets->ipyfilechooser>=0.6.0->geemap) (23.1.0)\n",
            "Requirement already satisfied: pyrsistent!=0.17.0,!=0.17.1,!=0.17.2,>=0.14.0 in /usr/local/lib/python3.10/dist-packages (from jsonschema>=2.6->nbformat->notebook>=4.4.1->widgetsnbextension~=3.6.0->ipywidgets->ipyfilechooser>=0.6.0->geemap) (0.19.3)\n",
            "Requirement already satisfied: cffi>=1.0.1 in /usr/local/lib/python3.10/dist-packages (from argon2-cffi-bindings->argon2-cffi->notebook>=4.4.1->widgetsnbextension~=3.6.0->ipywidgets->ipyfilechooser>=0.6.0->geemap) (1.15.1)\n",
            "Requirement already satisfied: soupsieve>1.2 in /usr/local/lib/python3.10/dist-packages (from beautifulsoup4->nbconvert->notebook>=4.4.1->widgetsnbextension~=3.6.0->ipywidgets->ipyfilechooser>=0.6.0->geemap) (2.4.1)\n",
            "Requirement already satisfied: webencodings in /usr/local/lib/python3.10/dist-packages (from bleach->nbconvert->notebook>=4.4.1->widgetsnbextension~=3.6.0->ipywidgets->ipyfilechooser>=0.6.0->geemap) (0.5.1)\n",
            "Requirement already satisfied: pycparser in /usr/local/lib/python3.10/dist-packages (from cffi>=1.0.1->argon2-cffi-bindings->argon2-cffi->notebook>=4.4.1->widgetsnbextension~=3.6.0->ipywidgets->ipyfilechooser>=0.6.0->geemap) (2.21)\n",
            "Building wheels for collected packages: pyperclip\n",
            "  Building wheel for pyperclip (setup.py) ... \u001b[?25l\u001b[?25hdone\n",
            "  Created wheel for pyperclip: filename=pyperclip-1.8.2-py3-none-any.whl size=11124 sha256=870078696cf12e175dfcdffae37e10b67d08f1bcc919748bd886623b11fb3597\n",
            "  Stored in directory: /root/.cache/pip/wheels/04/24/fe/140a94a7f1036003ede94579e6b4227fe96c840c6f4dcbe307\n",
            "Successfully built pyperclip\n",
            "Installing collected packages: pyperclip, colour, xyzservices, traittypes, scooby, ratelim, python-box, pyshp, jedi, geocoder, eerepr, ipytree, ipyleaflet, ipyfilechooser, ipyevents, bqplot, geemap\n",
            "Successfully installed bqplot-0.12.39 colour-0.1.5 eerepr-0.0.4 geemap-0.22.1 geocoder-1.38.1 ipyevents-2.0.1 ipyfilechooser-0.6.0 ipyleaflet-0.17.3 ipytree-0.2.2 jedi-0.18.2 pyperclip-1.8.2 pyshp-2.3.1 python-box-7.0.1 ratelim-0.1.6 scooby-0.7.2 traittypes-0.2.1 xyzservices-2023.5.0\n",
            "Looking in indexes: https://pypi.org/simple, https://us-python.pkg.dev/colab-wheels/public/simple/\n",
            "Collecting earthpy\n",
            "  Downloading earthpy-0.9.4-py3-none-any.whl (1.4 MB)\n",
            "\u001b[2K     \u001b[90m━━━━━━━━━━━━━━━━━━━━━━━━━━━━━━━━━━━━━━━━\u001b[0m \u001b[32m1.4/1.4 MB\u001b[0m \u001b[31m20.4 MB/s\u001b[0m eta \u001b[36m0:00:00\u001b[0m\n",
            "\u001b[?25hCollecting geopandas (from earthpy)\n",
            "  Downloading geopandas-0.13.2-py3-none-any.whl (1.1 MB)\n",
            "\u001b[2K     \u001b[90m━━━━━━━━━━━━━━━━━━━━━━━━━━━━━━━━━━━━━━━━\u001b[0m \u001b[32m1.1/1.1 MB\u001b[0m \u001b[31m62.9 MB/s\u001b[0m eta \u001b[36m0:00:00\u001b[0m\n",
            "\u001b[?25hRequirement already satisfied: matplotlib>=2.0.0 in /usr/local/lib/python3.10/dist-packages (from earthpy) (3.7.1)\n",
            "Requirement already satisfied: numpy>=1.14.0 in /usr/local/lib/python3.10/dist-packages (from earthpy) (1.22.4)\n",
            "Collecting rasterio (from earthpy)\n",
            "  Downloading rasterio-1.3.7-cp310-cp310-manylinux_2_17_x86_64.manylinux2014_x86_64.whl (21.3 MB)\n",
            "\u001b[2K     \u001b[90m━━━━━━━━━━━━━━━━━━━━━━━━━━━━━━━━━━━━━━━━\u001b[0m \u001b[32m21.3/21.3 MB\u001b[0m \u001b[31m57.3 MB/s\u001b[0m eta \u001b[36m0:00:00\u001b[0m\n",
            "\u001b[?25hRequirement already satisfied: scikit-image in /usr/local/lib/python3.10/dist-packages (from earthpy) (0.19.3)\n",
            "Requirement already satisfied: requests in /usr/local/lib/python3.10/dist-packages (from earthpy) (2.27.1)\n",
            "Requirement already satisfied: contourpy>=1.0.1 in /usr/local/lib/python3.10/dist-packages (from matplotlib>=2.0.0->earthpy) (1.0.7)\n",
            "Requirement already satisfied: cycler>=0.10 in /usr/local/lib/python3.10/dist-packages (from matplotlib>=2.0.0->earthpy) (0.11.0)\n",
            "Requirement already satisfied: fonttools>=4.22.0 in /usr/local/lib/python3.10/dist-packages (from matplotlib>=2.0.0->earthpy) (4.39.3)\n",
            "Requirement already satisfied: kiwisolver>=1.0.1 in /usr/local/lib/python3.10/dist-packages (from matplotlib>=2.0.0->earthpy) (1.4.4)\n",
            "Requirement already satisfied: packaging>=20.0 in /usr/local/lib/python3.10/dist-packages (from matplotlib>=2.0.0->earthpy) (23.1)\n",
            "Requirement already satisfied: pillow>=6.2.0 in /usr/local/lib/python3.10/dist-packages (from matplotlib>=2.0.0->earthpy) (8.4.0)\n",
            "Requirement already satisfied: pyparsing>=2.3.1 in /usr/local/lib/python3.10/dist-packages (from matplotlib>=2.0.0->earthpy) (3.0.9)\n",
            "Requirement already satisfied: python-dateutil>=2.7 in /usr/local/lib/python3.10/dist-packages (from matplotlib>=2.0.0->earthpy) (2.8.2)\n",
            "Collecting fiona>=1.8.19 (from geopandas->earthpy)\n",
            "  Downloading Fiona-1.9.4.post1-cp310-cp310-manylinux_2_17_x86_64.manylinux2014_x86_64.whl (16.4 MB)\n",
            "\u001b[2K     \u001b[90m━━━━━━━━━━━━━━━━━━━━━━━━━━━━━━━━━━━━━━━━\u001b[0m \u001b[32m16.4/16.4 MB\u001b[0m \u001b[31m75.7 MB/s\u001b[0m eta \u001b[36m0:00:00\u001b[0m\n",
            "\u001b[?25hRequirement already satisfied: pandas>=1.1.0 in /usr/local/lib/python3.10/dist-packages (from geopandas->earthpy) (1.5.3)\n",
            "Collecting pyproj>=3.0.1 (from geopandas->earthpy)\n",
            "  Downloading pyproj-3.5.0-cp310-cp310-manylinux_2_17_x86_64.manylinux2014_x86_64.whl (7.7 MB)\n",
            "\u001b[2K     \u001b[90m━━━━━━━━━━━━━━━━━━━━━━━━━━━━━━━━━━━━━━━━\u001b[0m \u001b[32m7.7/7.7 MB\u001b[0m \u001b[31m76.2 MB/s\u001b[0m eta \u001b[36m0:00:00\u001b[0m\n",
            "\u001b[?25hRequirement already satisfied: shapely>=1.7.1 in /usr/local/lib/python3.10/dist-packages (from geopandas->earthpy) (2.0.1)\n",
            "Collecting affine (from rasterio->earthpy)\n",
            "  Downloading affine-2.4.0-py3-none-any.whl (15 kB)\n",
            "Requirement already satisfied: attrs in /usr/local/lib/python3.10/dist-packages (from rasterio->earthpy) (23.1.0)\n",
            "Requirement already satisfied: certifi in /usr/local/lib/python3.10/dist-packages (from rasterio->earthpy) (2022.12.7)\n",
            "Requirement already satisfied: click>=4.0 in /usr/local/lib/python3.10/dist-packages (from rasterio->earthpy) (8.1.3)\n",
            "Collecting cligj>=0.5 (from rasterio->earthpy)\n",
            "  Downloading cligj-0.7.2-py3-none-any.whl (7.1 kB)\n",
            "Collecting snuggs>=1.4.1 (from rasterio->earthpy)\n",
            "  Downloading snuggs-1.4.7-py3-none-any.whl (5.4 kB)\n",
            "Collecting click-plugins (from rasterio->earthpy)\n",
            "  Downloading click_plugins-1.1.1-py2.py3-none-any.whl (7.5 kB)\n",
            "Requirement already satisfied: setuptools in /usr/local/lib/python3.10/dist-packages (from rasterio->earthpy) (67.7.2)\n",
            "Requirement already satisfied: urllib3<1.27,>=1.21.1 in /usr/local/lib/python3.10/dist-packages (from requests->earthpy) (1.26.15)\n",
            "Requirement already satisfied: charset-normalizer~=2.0.0 in /usr/local/lib/python3.10/dist-packages (from requests->earthpy) (2.0.12)\n",
            "Requirement already satisfied: idna<4,>=2.5 in /usr/local/lib/python3.10/dist-packages (from requests->earthpy) (3.4)\n",
            "Requirement already satisfied: scipy>=1.4.1 in /usr/local/lib/python3.10/dist-packages (from scikit-image->earthpy) (1.10.1)\n",
            "Requirement already satisfied: networkx>=2.2 in /usr/local/lib/python3.10/dist-packages (from scikit-image->earthpy) (3.1)\n",
            "Requirement already satisfied: imageio>=2.4.1 in /usr/local/lib/python3.10/dist-packages (from scikit-image->earthpy) (2.25.1)\n",
            "Requirement already satisfied: tifffile>=2019.7.26 in /usr/local/lib/python3.10/dist-packages (from scikit-image->earthpy) (2023.4.12)\n",
            "Requirement already satisfied: PyWavelets>=1.1.1 in /usr/local/lib/python3.10/dist-packages (from scikit-image->earthpy) (1.4.1)\n",
            "Requirement already satisfied: six in /usr/local/lib/python3.10/dist-packages (from fiona>=1.8.19->geopandas->earthpy) (1.16.0)\n",
            "Requirement already satisfied: pytz>=2020.1 in /usr/local/lib/python3.10/dist-packages (from pandas>=1.1.0->geopandas->earthpy) (2022.7.1)\n",
            "Installing collected packages: snuggs, pyproj, cligj, click-plugins, affine, rasterio, fiona, geopandas, earthpy\n",
            "Successfully installed affine-2.4.0 click-plugins-1.1.1 cligj-0.7.2 earthpy-0.9.4 fiona-1.9.4.post1 geopandas-0.13.2 pyproj-3.5.0 rasterio-1.3.7 snuggs-1.4.7\n",
            "/bin/bash: conda: command not found\n",
            "Looking in indexes: https://pypi.org/simple, https://us-python.pkg.dev/colab-wheels/public/simple/\n",
            "Requirement already satisfied: pyproj in /usr/local/lib/python3.10/dist-packages (3.5.0)\n",
            "Requirement already satisfied: certifi in /usr/local/lib/python3.10/dist-packages (from pyproj) (2022.12.7)\n",
            "Looking in indexes: https://pypi.org/simple, https://us-python.pkg.dev/colab-wheels/public/simple/\n",
            "Requirement already satisfied: pandas in /usr/local/lib/python3.10/dist-packages (1.5.3)\n",
            "Requirement already satisfied: python-dateutil>=2.8.1 in /usr/local/lib/python3.10/dist-packages (from pandas) (2.8.2)\n",
            "Requirement already satisfied: pytz>=2020.1 in /usr/local/lib/python3.10/dist-packages (from pandas) (2022.7.1)\n",
            "Requirement already satisfied: numpy>=1.21.0 in /usr/local/lib/python3.10/dist-packages (from pandas) (1.22.4)\n",
            "Requirement already satisfied: six>=1.5 in /usr/local/lib/python3.10/dist-packages (from python-dateutil>=2.8.1->pandas) (1.16.0)\n"
          ]
        }
      ],
      "source": [
        "!pip install earthengine-api\n",
        "!pip install geemap\n",
        "!pip install earthpy\n",
        "!conda install osgeo\n",
        "!pip install pyproj\n",
        "!pip install pandas"
      ]
    },
    {
      "cell_type": "code",
      "execution_count": 3,
      "id": "a3bf9ee4",
      "metadata": {
        "id": "a3bf9ee4"
      },
      "outputs": [],
      "source": [
        "import ee\n",
        "import numpy as np\n",
        "import pandas as pd\n",
        "import geemap\n",
        "import matplotlib.pyplot as plt\n",
        "import os\n",
        "from osgeo import gdal\n",
        "from osgeo import osr"
      ]
    },
    {
      "cell_type": "code",
      "execution_count": null,
      "id": "e24f2c3d-d9e9-471d-969d-1dd057a660b3",
      "metadata": {
        "scrolled": true,
        "id": "e24f2c3d-d9e9-471d-969d-1dd057a660b3"
      },
      "outputs": [],
      "source": [
        "# ee.Authenticate()\n",
        "ee.Initialize()\n",
        "\n",
        "path = '/change/to/path'\n",
        "try:\n",
        "    os.mkdir(path)\n",
        "except:\n",
        "    print('Folder already exists.')\n",
        "    pass\n",
        "    \n",
        "os.chdir(path)\n",
        "# Get the current working directory\n",
        "cwd = os.getcwd()\n",
        "# Print the current working directory\n",
        "print(\"Current working directory: {0}\".format(cwd))"
      ]
    },
    {
      "cell_type": "markdown",
      "id": "13fe02d8",
      "metadata": {
        "id": "13fe02d8"
      },
      "source": [
        "# changeables"
      ]
    },
    {
      "cell_type": "code",
      "execution_count": null,
      "id": "6e6f6a8c",
      "metadata": {
        "id": "6e6f6a8c"
      },
      "outputs": [],
      "source": [
        "# AREA OF INTEREST\n",
        "\n",
        "# IF I WANT ALL OF SA:\n",
        "#countries = ee.FeatureCollection('USDOS/LSIB_SIMPLE/2017')\n",
        "#aoi = ee.Feature(countries.filter(ee.Filter.inList('country_na',\n",
        "# ['South Africa'])).union().first()).geometry()\n",
        "\n",
        "#IF I WANT AN AREA FOR TESTING (I DO)\n",
        "aoi = ee.Geometry.Polygon(\n",
        "    [[[25.9, -28.5], [26.6, -28.5], [26.6, -27.9], [25.9, -27.9]]], None, False\n",
        ")\n",
        "\n",
        "\n",
        "# DATES\n",
        "start_date = '2003-01-01'\n",
        "end_date = '2004-12-31'\n",
        "\n",
        "# DIRECTORIES - if I want to export to local drive instead of google drive \n",
        "# --> https://tutorials.geemap.org/AssetManagement/export_data/\n",
        "#out_dir = \n"
      ]
    },
    {
      "cell_type": "markdown",
      "id": "b587bbbf",
      "metadata": {
        "id": "b587bbbf"
      },
      "source": [
        "# pull NDVI by grid"
      ]
    },
    {
      "cell_type": "code",
      "execution_count": null,
      "id": "00772296",
      "metadata": {
        "id": "00772296"
      },
      "outputs": [],
      "source": [
        "Map = geemap.Map()\n",
        "\n",
        "Map.addLayer(aoi)\n",
        "# Zoom to regions of interest\n",
        "Map.centerObject(aoi, 10)\n",
        "\n",
        "dataset = ee.ImageCollection('MODIS/061/MOD13Q1') \\\n",
        "                  .filter(ee.Filter.date(start_date, end_date)) \\\n",
        "                  .select(['NDVI', 'DetailedQA'])\n",
        "ndviCol = ee.ImageCollection('MODIS/061/MOD13Q1') \\\n",
        "                  .filter(ee.Filter.date(start_date, end_date)) \\\n",
        "                  .select(['NDVI'])\n",
        "qaCol = ee.ImageCollection('MODIS/061/MOD13Q1') \\\n",
        "                  .filter(ee.Filter.date(start_date, end_date)) \\\n",
        "                  .select(['DetailedQA'])\n",
        "\n",
        "ndviVis = {\n",
        "    'bands': 'NDVI',\n",
        "    'min': 0.0,\n",
        "    'max': 8000.0,\n",
        "    'palette': [\n",
        "    'FFFFFF', 'CE7E45', 'DF923D', 'F1B555', 'FCD163', '99B718', '74A901',\n",
        "    '66A000', '529400', '3E8601', '207401', '056201', '004C00', '023B01',\n",
        "    '012E01', '011D01', '011301'\n",
        "  ],\n",
        "}\n",
        "Map.addLayer(dataset.first(), ndviVis, 'NDVI')\n",
        "Map.addLayer(aoi, {}, 'aoi')\n",
        "Map"
      ]
    },
    {
      "cell_type": "markdown",
      "id": "4a82540d",
      "metadata": {
        "id": "4a82540d"
      },
      "source": [
        "for testing:"
      ]
    },
    {
      "cell_type": "code",
      "execution_count": null,
      "id": "4c91bc8b-9a98-41bc-8b02-633eac89c819",
      "metadata": {
        "scrolled": true,
        "id": "4c91bc8b-9a98-41bc-8b02-633eac89c819"
      },
      "outputs": [],
      "source": [
        "# global UTM grid\n",
        "utm = ee.FeatureCollection('users/gmkovacs/World_UTM_Grid')\n",
        "Map.addLayer(utm, {}, 'UTM grids')"
      ]
    },
    {
      "cell_type": "code",
      "execution_count": null,
      "id": "005bd7bd-259a-49da-af56-d00d398b5ea6",
      "metadata": {
        "id": "005bd7bd-259a-49da-af56-d00d398b5ea6"
      },
      "outputs": [],
      "source": [
        "# transfor the collection into a multiband image\n",
        "ndviSeries = ndviCol.toBands()\n",
        "# get the image names\n",
        "ndvi_names = ndviSeries.bandNames().getInfo()\n",
        "#extract image dates\n",
        "ndvi_dates = [n[:-5].replace('_', '.') for n in ndvi_names]\n",
        "print(ndvi_dates)\n",
        "\n",
        "df = pd.DataFrame(ndvi_dates)\n",
        "# save image dates\n",
        "df.to_csv('ndvi_dates.csv', mode='a', index=False, header=True)"
      ]
    },
    {
      "cell_type": "code",
      "execution_count": null,
      "id": "16374887-b1f7-4539-aaf0-3383d96fc05f",
      "metadata": {
        "id": "16374887-b1f7-4539-aaf0-3383d96fc05f"
      },
      "outputs": [],
      "source": [
        "# get the number of images\n",
        "n_img = ndviCol.size().getInfo()\n",
        "# get list of images\n",
        "imgList = dataset.toList(n_img)\n",
        "print(f'number of images: {n_img}')"
      ]
    },
    {
      "cell_type": "code",
      "execution_count": null,
      "id": "c08c568f-ee4e-4f5b-b588-045c9123af50",
      "metadata": {
        "id": "c08c568f-ee4e-4f5b-b588-045c9123af50"
      },
      "outputs": [],
      "source": [
        "from pyproj import CRS\n",
        "# get utm zone for the aoi\n",
        "utm_zone = utm.filterBounds(aoi).first().get('ZONE').getInfo()\n",
        "# compute the crs\n",
        "crs = CRS.from_dict({'proj': 'utm', 'zone': utm_zone, 'south': False})\n",
        "# set noData value to -20000 and reproject\n",
        "img = ndviSeries.unmask(-20000).reproject(f'EPSG:{crs.to_authority()[1]}', None, 250)\n",
        "# Get 2-d pixel array for AOI - returns feature with 2-D pixel array as property per band.\n",
        "band_arrs = img.sampleRectangle(region=aoi)\n",
        "\n",
        "# get the first image\n",
        "band_arr_ndvi = band_arrs.get(ndvi_names[0])\n",
        "np_arr_ndvi0 = np.array(band_arr_ndvi.getInfo())\n",
        "print(np_arr_ndvi0.shape)\n",
        "\n",
        "# Get individual band arrays.\n",
        "arrs = np.array([np_arr_ndvi0])\n",
        "for i in ndvi_names[1:]:\n",
        "    band_arr_ndvi = band_arrs.get(i)\n",
        "    # Transfer the arrays from server to client and cast as np array.\n",
        "    np_arr_ndvi = np.array([band_arr_ndvi.getInfo()])\n",
        "    arrs = np.append(arrs, np_arr_ndvi, axis = 0)\n",
        "print(arrs.shape)\n",
        "\n",
        "# Stack the individual images to make a 3-D array.\n",
        "np_stack_img = np.stack(arrs) "
      ]
    },
    {
      "cell_type": "code",
      "execution_count": null,
      "id": "0c1da449-1d94-42ac-8eca-9ca05527b184",
      "metadata": {
        "id": "0c1da449-1d94-42ac-8eca-9ca05527b184"
      },
      "outputs": [],
      "source": [
        "import earthpy.plot as ep\n",
        "from matplotlib.colors import ListedColormap\n",
        "\n",
        "# plot firt images\n",
        "ep.plot_bands(np_stack_img[0], cmap='RdYlGn', title = f\"{imgList.get(0).getInfo()['id']}\")\n",
        "plt.show()"
      ]
    },
    {
      "cell_type": "code",
      "execution_count": null,
      "id": "dc2b2dec-17da-4976-835a-8abab7850daf",
      "metadata": {
        "id": "dc2b2dec-17da-4976-835a-8abab7850daf"
      },
      "outputs": [],
      "source": [
        "## save multiband NDVI with GDAL\n",
        "\n",
        "nbands, height, width = np_stack_img.shape\n",
        "# get the lat lon and add the ndvi\n",
        "latlon = img.pixelCoordinates(f'EPSG:{crs.to_authority()[1]}')\n",
        "# apply reducer to list\n",
        "latlon = latlon.reduceRegion(\n",
        "    reducer=ee.Reducer.toList(),\n",
        "    geometry=aoi,\n",
        "    maxPixels=3e8,\n",
        "    scale=250)\n",
        "lats = np.array((ee.Array(latlon.get('y')).getInfo()))\n",
        "lons = np.array((ee.Array(latlon.get('x')).getInfo()))\n",
        "# get the unique coordinates\n",
        "uniqueLats = np.unique(lats)\n",
        "uniqueLons = np.unique(lons)\n",
        "# get number of columns and rows from coordinates\n",
        "ncols = len(uniqueLons)    \n",
        "nrows = len(uniqueLats)\n",
        "# determine pixelsizes\n",
        "ys = uniqueLats[1] - uniqueLats[0] \n",
        "xs = uniqueLons[1] - uniqueLons[0]\n",
        "# set the coordinate system\n",
        "target = osr.SpatialReference()\n",
        "target.ImportFromEPSG(int(crs.to_authority()[1]))\n",
        "transform = (np.min(uniqueLons),xs,0,np.max(uniqueLats),0,-ys)\n",
        "datas = np_stack_img\n",
        "driver = gdal.GetDriverByName(\"GTiff\")\n",
        "tods = driver.Create(f\"{imgList.get(0).getInfo()['id'].replace('/', '_')}_{imgList.get(-1).getInfo()['id'].replace('/', '_')[-10:]}_aoi_NDVI.tif\", width, height, nbands, eType=gdal.GDT_Int16)\n",
        "tods.WriteRaster(0,0,width,height,datas,band_list=list(range(1, nbands+1)))\n",
        "tods.SetGeoTransform(transform)\n",
        "tods.SetProjection(target.ExportToWkt())\n",
        "tods.FlushCache()"
      ]
    },
    {
      "cell_type": "code",
      "execution_count": null,
      "id": "a0353581-ff94-4af4-8afa-148b2bc6cf85",
      "metadata": {
        "id": "a0353581-ff94-4af4-8afa-148b2bc6cf85"
      },
      "outputs": [],
      "source": [
        "# Save multiband QA with GDAl\n",
        "\n",
        "qaSeries = qaCol.toBands()\n",
        "qa_names = qaSeries.bandNames().getInfo()\n",
        "\n",
        "img = qaSeries.reproject(f'EPSG:{crs.to_authority()[1]}', None, 250)\n",
        "# Get 2-d pixel array for AOI - returns feature with 2-D pixel array as property per band.\n",
        "band_arrs = img.sampleRectangle(region=aoi)\n",
        "\n",
        "band_arr_qa = band_arrs.get(qa_names[0])\n",
        "np_arr_qa0 = np.array(band_arr_qa.getInfo())\n",
        "\n",
        "# Get individual band arrays.\n",
        "arrs = np.array([np_arr_qa0])\n",
        "for i in qa_names[1:]:\n",
        "    band_arr_qa = band_arrs.get(i)\n",
        "    # Transfer the arrays from server to client and cast as np array.\n",
        "    np_arr_qa = np.array([band_arr_qa.getInfo()])\n",
        "    arrs = np.append(arrs, np_arr_qa, axis = 0)\n",
        "# Stack the individual images to make a 3-D array.\n",
        "np_stack_img = np.stack(arrs) \n",
        "# plot firt images\n",
        "ep.plot_bands(np_stack_img[0], cmap='RdYlGn', title = f\"{imgList.get(0).getInfo()['id']}\")\n",
        "plt.show()"
      ]
    },
    {
      "cell_type": "code",
      "execution_count": null,
      "id": "f9b8a270-cda6-4e9e-b2d7-e162294a2f3e",
      "metadata": {
        "id": "f9b8a270-cda6-4e9e-b2d7-e162294a2f3e"
      },
      "outputs": [],
      "source": [
        "nbands, height, width = np_stack_img.shape\n",
        "# get the lat lon and add the ndvi\n",
        "latlon = img.pixelCoordinates(f'EPSG:{crs.to_authority()[1]}')\n",
        "# apply reducer to list\n",
        "latlon = latlon.reduceRegion(\n",
        "    reducer=ee.Reducer.toList(),\n",
        "    geometry=aoi,\n",
        "    maxPixels=3e8,\n",
        "    scale=250)\n",
        "lats = np.array((ee.Array(latlon.get('y')).getInfo()))\n",
        "lons = np.array((ee.Array(latlon.get('x')).getInfo()))\n",
        "# get the unique coordinates\n",
        "uniqueLats = np.unique(lats)\n",
        "uniqueLons = np.unique(lons)\n",
        "# get number of columns and rows from coordinates\n",
        "ncols = len(uniqueLons)    \n",
        "nrows = len(uniqueLats)\n",
        "# determine pixelsizes\n",
        "ys = uniqueLats[1] - uniqueLats[0] \n",
        "xs = uniqueLons[1] - uniqueLons[0]\n",
        "# set the coordinate system\n",
        "target = osr.SpatialReference()\n",
        "target.ImportFromEPSG(int(crs.to_authority()[1]))\n",
        "transform = (np.min(uniqueLons),xs,0,np.max(uniqueLats),0,-ys)\n",
        "datas = np_stack_img\n",
        "driver = gdal.GetDriverByName(\"GTiff\")\n",
        "tods = driver.Create(f\"{imgList.get(0).getInfo()['id'].replace('/', '_')}_{imgList.get(-1).getInfo()['id'].replace('/', '_')[-10:]}_aoi_QA.tif\", width, height, nbands, eType=gdal.GDT_Int16)\n",
        "tods.WriteRaster(0,0,width,height,datas,band_list=list(range(1, nbands+1)))\n",
        "tods.SetGeoTransform(transform)\n",
        "tods.SetProjection(target.ExportToWkt())\n",
        "tods.FlushCache()"
      ]
    },
    {
      "cell_type": "code",
      "execution_count": null,
      "id": "d6f4b5f6-d335-481f-94be-37f94f858c6d",
      "metadata": {
        "id": "d6f4b5f6-d335-481f-94be-37f94f858c6d"
      },
      "outputs": [],
      "source": [
        "# # Run this to save the images separately with the QA band\n",
        "\n",
        "# import time\n",
        "\n",
        "# for i in range(n_img):\n",
        "#     utm_zone = utm.filterBounds(aoi).first().get('ZONE').getInfo()\n",
        "#     crs = CRS.from_dict({'proj': 'utm', 'zone': utm_zone, 'south': False})\n",
        "#     image = ee.Image(imgList.get(i)).unmask(-20000).reproject(f'EPSG:{crs.to_authority()[1]}', None, 250)\n",
        "#     bands = image.bandNames().getInfo()\n",
        "#     band_arrs = image.sampleRectangle(region=aoi)\n",
        "#     np_arrs = []\n",
        "#     for band in bands:\n",
        "#         np_arr = np.array(band_arrs.get(band).getInfo())\n",
        "#         np_arrs.append(np_arr)\n",
        "#     np_stack_img = np.stack((np_arrs))\n",
        "#     nbands, height, width = np_stack_img.shape\n",
        "#     # get the lat lon and add the ndvi\n",
        "#     latlon = image.pixelCoordinates(f'EPSG:{crs.to_authority()[1]}')\n",
        "#     # apply reducer to list\n",
        "#     latlon = latlon.reduceRegion(\n",
        "#         reducer=ee.Reducer.toList(),\n",
        "#         geometry=aoi,\n",
        "#         maxPixels=3e8,\n",
        "#         scale=250)\n",
        "#     lats = np.array((ee.Array(latlon.get('y')).getInfo()))\n",
        "#     lons = np.array((ee.Array(latlon.get('x')).getInfo()))\n",
        "#     # get the unique coordinates\n",
        "#     uniqueLats = np.unique(lats)\n",
        "#     uniqueLons = np.unique(lons)\n",
        "#     # get number of columns and rows from coordinates\n",
        "#     ncols = len(uniqueLons)    \n",
        "#     nrows = len(uniqueLats)\n",
        "#     # determine pixelsizes\n",
        "#     ys = uniqueLats[1] - uniqueLats[0] \n",
        "#     xs = uniqueLons[1] - uniqueLons[0]\n",
        "#     # set the coordinate system\n",
        "#     target = osr.SpatialReference()\n",
        "#     target.ImportFromEPSG(int(crs.to_authority()[1]))\n",
        "#     transform = (np.min(uniqueLons),xs,0,np.max(uniqueLats),0,-ys)\n",
        "#     datas = np_stack_img\n",
        "#     driver = gdal.GetDriverByName(\"GTiff\")\n",
        "#     tods = driver.Create(f\"{imgList.get(i).getInfo()['id'].replace('/', '_')}_NDVI_QA_aoi.tif\", width, height, nbands, eType=gdal.GDT_Int16)\n",
        "#     tods.WriteRaster(0,0,width,height,datas,band_list=list(range(1, nbands+1)))\n",
        "#     tods.SetGeoTransform(transform)\n",
        "#     tods.SetProjection(target.ExportToWkt())\n",
        "#     tods.FlushCache()\n",
        "#     print(f\"Exporting {imgList.get(i).getInfo()['id'].replace('/', '_')}_sa_ND_aoi.tif to hardrive...\")\n",
        "# print('Export completed.')"
      ]
    },
    {
      "cell_type": "markdown",
      "id": "8408cee3",
      "metadata": {
        "id": "8408cee3"
      },
      "source": [
        "#### EXPORT TO DRIVE-VERSION\n",
        "\n",
        "import time\n",
        "for i in range(n_img):\n",
        "    for n in range(n_feat):\n",
        "        grid_n = ee.Feature(featList.get(n)).buffer(distance = 500).bounds()\n",
        "        task = ee.batch.Export.image.toDrive(\n",
        "            image = ee.Image(imgList.get(i)).clip(grid_n),\n",
        "            description= f\"{imgList.get(i).getInfo()['id'].replace('/', '_')}_sa_ND_{n}\",\n",
        "            region= grid_n.geometry(),\n",
        "            scale= 250,\n",
        "            maxPixels= 10e12,\n",
        "            # change this to the desired folder name on Google Drive\n",
        "            folder= f\"{imgList.get(i).getInfo()['id'].replace('/', '_')}_ND\",\n",
        "            crs='EPSG:4326',\n",
        "            fileFormat='GeoTIFF')\n",
        "        task.start()\n",
        "        print(f\"Exporting {imgList.get(i).getInfo()['id'].replace('/', '_')}_sa_{n} to Drive...\")\n",
        "        while task.active():\n",
        "            time.sleep(30)\n",
        "        if task.status()['state'] != 'COMPLETED':\n",
        "            print('Error with export.')\n",
        "        else:\n",
        "            print('Export completed.')"
      ]
    },
    {
      "cell_type": "markdown",
      "id": "1ff41edd",
      "metadata": {
        "id": "1ff41edd"
      },
      "source": [
        "# Pull Quality Assessment by grid"
      ]
    },
    {
      "cell_type": "code",
      "execution_count": null,
      "id": "3bfd5d49",
      "metadata": {
        "id": "3bfd5d49"
      },
      "outputs": [],
      "source": [
        "Map = geemap.Map()\n",
        "\n",
        "Map.addLayer(aoi)\n",
        "# Zoom to regions of interest\n",
        "Map.centerObject(aoi, 6)\n",
        "\n",
        "dataset = ee.ImageCollection('MODIS/061/MOD13Q1') \\\n",
        "                  .filter(ee.Filter.date(start_date, end_date)) \\\n",
        "                  .map(lambda image: image.clip(aoi)) \\\n",
        "                  .select('DetailedQA')\n",
        "\n",
        "ndviVis = {\n",
        "  'min': 0.0,\n",
        "  'max': 8000.0,\n",
        "  'palette': [\n",
        "    'FFFFFF', 'CE7E45', 'DF923D', 'F1B555', 'FCD163', '99B718', '74A901',\n",
        "    '66A000', '529400', '3E8601', '207401', '056201', '004C00', '023B01',\n",
        "    '012E01', '011D01', '011301'\n",
        "  ],\n",
        "}\n",
        "Map.addLayer(dataset.first(), ndviVis, 'NDVI')\n",
        "\n",
        "grids = dataset.geometry().coveringGrid('EPSG:4326', 100000)\n",
        "Map.addLayer(grids, {}, 'grid')\n",
        "Map\n",
        "\n"
      ]
    },
    {
      "cell_type": "code",
      "execution_count": null,
      "id": "443ec49e",
      "metadata": {
        "id": "443ec49e"
      },
      "outputs": [],
      "source": [
        "n_img = dataset.size().getInfo()\n",
        "print(f'number of images: {n_img}')\n",
        "\n",
        "n_feat = grids.size().getInfo()\n",
        "print(f'number of grids: {n_feat}')"
      ]
    },
    {
      "cell_type": "code",
      "execution_count": null,
      "id": "81c1b1b8",
      "metadata": {
        "id": "81c1b1b8"
      },
      "outputs": [],
      "source": [
        "imgList = dataset.toList(n_img)\n",
        "featList = grids.toList(n_feat)"
      ]
    },
    {
      "cell_type": "markdown",
      "id": "73707cea",
      "metadata": {
        "id": "73707cea"
      },
      "source": []
    },
    {
      "cell_type": "code",
      "execution_count": null,
      "id": "4a61366c",
      "metadata": {
        "id": "4a61366c"
      },
      "outputs": [],
      "source": [
        "import time\n",
        "for i in range(n_img):\n",
        "    for n in range(n_feat):\n",
        "        grid_n = ee.Feature(featList.get(n)).buffer(distance = 500).bounds()\n",
        "        task = ee.batch.Export.image.toDrive(\n",
        "            image = ee.Image(imgList.get(i)).clip(grid_n),\n",
        "            description= f\"{imgList.get(i).getInfo()['id'].replace('/', '_')}_sa_{n}\",\n",
        "            region= grid_n.geometry(),\n",
        "            scale= 250,\n",
        "            maxPixels= 10e12,\n",
        "            # change this to the desired folder name on Google Drive\n",
        "            folder= f\"{imgList.get(i).getInfo()['id'].replace('/', '_')}_QA\",\n",
        "            crs='EPSG:4326',\n",
        "            fileFormat='GeoTIFF')\n",
        "        task.start()\n",
        "        print(f\"Exporting {imgList.get(i).getInfo()['id'].replace('/', '_')}_sa_QA_{n} to Drive...\")\n",
        "        while task.active():\n",
        "            time.sleep(30)\n",
        "        if task.status()['state'] != 'COMPLETED':\n",
        "            print('Error with export.')\n",
        "        else:\n",
        "            print('Export completed.')"
      ]
    },
    {
      "cell_type": "markdown",
      "id": "d9ae096e",
      "metadata": {
        "id": "d9ae096e"
      },
      "source": [
        "## Mosaic NDVI and QA\n",
        "using rasterio and glob https://automating-gis-processes.github.io/CSC18/lessons/L6/raster-mosaic.html\n",
        "but make it iterate over folders\n",
        "\n",
        "Before doing this, tiles must be moved from google drive. This might be possible to change, but I'm currently (June 16th) not sure)"
      ]
    },
    {
      "cell_type": "code",
      "execution_count": null,
      "id": "af8d581c",
      "metadata": {
        "scrolled": true,
        "id": "af8d581c"
      },
      "outputs": [],
      "source": [
        "import os, glob\n",
        "import rasterio\n",
        "from rasterio.merge import merge \n",
        "from rasterio.plot import show"
      ]
    },
    {
      "cell_type": "markdown",
      "id": "c6943dcd",
      "metadata": {
        "id": "c6943dcd"
      },
      "source": [
        "### Mosaic - WORKING"
      ]
    },
    {
      "cell_type": "code",
      "execution_count": null,
      "id": "0da70433",
      "metadata": {
        "id": "0da70433"
      },
      "outputs": [],
      "source": [
        "rootdir = \"C:/PythonProgrammingTemp/NDVItest/\"\n",
        "for subdir, dirs, files in os.walk(rootdir): \n",
        "    for dir in dirs:\n",
        "        dirpath = os.path.join(rootdir,dir)\n",
        "        filename = dirpath[-16:]\n",
        "        # skift evt dirpath ud med rootdir herunder - så alle .tif kommer til at ligge i en enkelt mappe\n",
        "        out_fp = f\"{dirpath}/{filename}.tif\"\n",
        "        search_criteria = \"*.tif\"\n",
        "        q = os.path.join(dirpath, search_criteria)\n",
        "        print(q)\n",
        "\n",
        "        dem_fps = glob.glob(q)\n",
        "        print(dem_fps)\n",
        "\n",
        "        print(out_fp)\n",
        "\n",
        "        src_files_to_mosaic = []\n",
        "        for fp in dem_fps:\n",
        "            src = rasterio.open(fp)\n",
        "            src_files_to_mosaic.append(src)\n",
        "\n",
        "        mosaic, out_trans = merge(src_files_to_mosaic)\n",
        "        show(mosaic, cmap='terrain')\n",
        "        \n",
        "        out_meta = src.meta.copy()\n",
        "        # Update the metadata\n",
        "        out_meta.update({\"driver\": \"GTiff\",\n",
        "                         \"height\": mosaic.shape[1],\n",
        "                         \"width\": mosaic.shape[2],\n",
        "                         \"transform\": out_trans,\n",
        "                         \"crs\": \"+proj=utm +zone=35 +ellps=GRS80 +units=m +no_defs \"\n",
        "                            }\n",
        "                       )\n",
        "        with rasterio.open(out_fp, \"w\", **out_meta) as dest:\n",
        "            dest.write(mosaic)\n"
      ]
    },
    {
      "cell_type": "markdown",
      "id": "f022c7f4",
      "metadata": {
        "id": "f022c7f4"
      },
      "source": [
        "#### for single file\n",
        "\n",
        "dirpath = \"C:/PythonProgrammingTemp/NDVItest/MODIS_061_MOD13Q1_2003_01_01_sa_QA/\"\n",
        "out_fp = f\"{dirpath}\\_full.tif\"\n",
        "search_criteria = \"*.tif\"\n",
        "q = os.path.join(dirpath, search_criteria)\n",
        "print(q)\n",
        "\n",
        "dem_fps = glob.glob(q)\n",
        "print(dem_fps)\n",
        "\n",
        "print(out_fp)\n",
        "\n",
        "src_files_to_mosaic = []\n",
        "for fp in dem_fps:\n",
        "    src = rasterio.open(fp)\n",
        "    src_files_to_mosaic.append(src)\n",
        "\n",
        "mosaic, out_trans = merge(src_files_to_mosaic)\n",
        "show(mosaic, cmap='terrain')\n"
      ]
    },
    {
      "cell_type": "code",
      "execution_count": null,
      "id": "af036fe9",
      "metadata": {
        "id": "af036fe9"
      },
      "outputs": [],
      "source": []
    },
    {
      "cell_type": "code",
      "execution_count": null,
      "id": "f234c0e6",
      "metadata": {
        "id": "f234c0e6"
      },
      "outputs": [],
      "source": []
    },
    {
      "cell_type": "markdown",
      "id": "975277f9",
      "metadata": {
        "id": "975277f9"
      },
      "source": [
        "## Create list of files for NDVI and QA\n",
        "Probably: iterate through all folders to find the .tif file for each year, append to array, write to .txt"
      ]
    },
    {
      "cell_type": "markdown",
      "id": "53da0eb4",
      "metadata": {
        "id": "53da0eb4"
      },
      "source": [
        "## Cut Land Cover to NDVI-area\n",
        "\n",
        "\n",
        "\n",
        "\n",
        "\n",
        "\n",
        "Import LC data\n",
        "project to the same coordinate system as the NDVI/QA\n",
        "clip to NDVI dataset\n",
        "resize raster to NDVI pixels \n",
        "reclass \n",
        "\n",
        "\n",
        "\n",
        "in_tif = 'C:\\Users\\KKBR\\OneDrive - Københavns Universitet\\Uni\\Speciale\\SA_egis_data\\NLC_2020.tif'"
      ]
    }
  ],
  "metadata": {
    "kernelspec": {
      "display_name": "Python 3 (ipykernel)",
      "language": "python",
      "name": "python3"
    },
    "language_info": {
      "codemirror_mode": {
        "name": "ipython",
        "version": 3
      },
      "file_extension": ".py",
      "mimetype": "text/x-python",
      "name": "python",
      "nbconvert_exporter": "python",
      "pygments_lexer": "ipython3",
      "version": "3.8.13"
    },
    "colab": {
      "provenance": [],
      "include_colab_link": true
    }
  },
  "nbformat": 4,
  "nbformat_minor": 5
}